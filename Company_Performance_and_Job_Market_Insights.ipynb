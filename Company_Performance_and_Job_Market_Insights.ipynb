{
 "cells": [
  {
   "cell_type": "markdown",
   "metadata": {
    "id": "ty_Gvth62Tav"
   },
   "source": [
    "# Homework 3\n",
    "\n",
    "### Due: Thursday Oct 5, at 11:59pm via Blackboard"
   ]
  },
  {
   "cell_type": "code",
   "execution_count": 2,
   "metadata": {
    "tags": []
   },
   "outputs": [
    {
     "name": "stdout",
     "output_type": "stream",
     "text": [
      "Intel MKL WARNING: Support of Intel(R) Streaming SIMD Extensions 4.2 (Intel(R) SSE4.2) enabled only processors has been deprecated. Intel oneAPI Math Kernel Library 2025.0 will require Intel(R) Advanced Vector Extensions (Intel(R) AVX) instructions.\n",
      "Intel MKL WARNING: Support of Intel(R) Streaming SIMD Extensions 4.2 (Intel(R) SSE4.2) enabled only processors has been deprecated. Intel oneAPI Math Kernel Library 2025.0 will require Intel(R) Advanced Vector Extensions (Intel(R) AVX) instructions.\n"
     ]
    }
   ],
   "source": [
    "import pandas as pd\n",
    "import numpy as np\n",
    "import matplotlib.pyplot as plt\n",
    "import seaborn as sns\n",
    "\n",
    "plt.style.use('ggplot')"
   ]
  },
  {
   "cell_type": "markdown",
   "metadata": {},
   "source": [
    "## Problem 1: Peformance of Large vs. Small Companies\n",
    "\n",
    "Companies vary greatly in size. This variation can hide how well a company is performing. Rather than looking at the raw profit numbers, analysts consider financial ratios that adjust for the size of the company. A popular ratio is the return on assets, defined as:\n",
    "\n",
    "**Return on Assets $= Net Income/Total Assets$**\n",
    "\n",
    "Net income is another name for profits, and the total assets of a company is the value of everything it owns that is used to produce profits. The return on assets indicates how much profit the company generates relative to the amount that it invested to make that profit. A company with losses rather than profits has a negative return on assets. \n",
    "\n",
    "**Data:** The data set `Company.csv` gives the company name, total assets (in Millions \\$), net income (in Millions \\$), and the number of employees reported by 167 retailers in the United States. \n",
    "\n",
    "In the following questions, you will be performing an **exploratory data analysis (EDA)** for the given companies data. "
   ]
  },
  {
   "cell_type": "code",
   "execution_count": 3,
   "metadata": {
    "tags": []
   },
   "outputs": [
    {
     "data": {
      "text/plain": [
       "(167, 4)"
      ]
     },
     "execution_count": 3,
     "metadata": {},
     "output_type": "execute_result"
    }
   ],
   "source": [
    "company = pd.read_csv(\"Company.csv\")\n",
    "company.shape"
   ]
  },
  {
   "cell_type": "code",
   "execution_count": 5,
   "metadata": {
    "tags": []
   },
   "outputs": [
    {
     "data": {
      "text/html": [
       "<div>\n",
       "<style scoped>\n",
       "    .dataframe tbody tr th:only-of-type {\n",
       "        vertical-align: middle;\n",
       "    }\n",
       "\n",
       "    .dataframe tbody tr th {\n",
       "        vertical-align: top;\n",
       "    }\n",
       "\n",
       "    .dataframe thead th {\n",
       "        text-align: right;\n",
       "    }\n",
       "</style>\n",
       "<table border=\"1\" class=\"dataframe\">\n",
       "  <thead>\n",
       "    <tr style=\"text-align: right;\">\n",
       "      <th></th>\n",
       "      <th>Company Name</th>\n",
       "      <th>Total Assets (M$)</th>\n",
       "      <th>Net Income (M$)</th>\n",
       "      <th># Employees</th>\n",
       "    </tr>\n",
       "  </thead>\n",
       "  <tbody>\n",
       "    <tr>\n",
       "      <th>0</th>\n",
       "      <td>1-800-FLOWERS.COM</td>\n",
       "      <td>256</td>\n",
       "      <td>-4</td>\n",
       "      <td>2200</td>\n",
       "    </tr>\n",
       "    <tr>\n",
       "      <th>1</th>\n",
       "      <td>99 CENTS ONLY STORES</td>\n",
       "      <td>824</td>\n",
       "      <td>74</td>\n",
       "      <td>12000</td>\n",
       "    </tr>\n",
       "    <tr>\n",
       "      <th>2</th>\n",
       "      <td>A.C. MOORE ARTS &amp; CRAFTS INC</td>\n",
       "      <td>237</td>\n",
       "      <td>-30</td>\n",
       "      <td>4710</td>\n",
       "    </tr>\n",
       "    <tr>\n",
       "      <th>3</th>\n",
       "      <td>ABERCROMBIE &amp; FITCH  -CL A</td>\n",
       "      <td>2948</td>\n",
       "      <td>150</td>\n",
       "      <td>85000</td>\n",
       "    </tr>\n",
       "    <tr>\n",
       "      <th>4</th>\n",
       "      <td>ADVANCE AUTO PARTS INC</td>\n",
       "      <td>3354</td>\n",
       "      <td>346</td>\n",
       "      <td>51017</td>\n",
       "    </tr>\n",
       "  </tbody>\n",
       "</table>\n",
       "</div>"
      ],
      "text/plain": [
       "                   Company Name  Total Assets (M$)  Net Income (M$)  \\\n",
       "0             1-800-FLOWERS.COM                256               -4   \n",
       "1          99 CENTS ONLY STORES                824               74   \n",
       "2  A.C. MOORE ARTS & CRAFTS INC                237              -30   \n",
       "3    ABERCROMBIE & FITCH  -CL A               2948              150   \n",
       "4        ADVANCE AUTO PARTS INC               3354              346   \n",
       "\n",
       "   # Employees  \n",
       "0         2200  \n",
       "1        12000  \n",
       "2         4710  \n",
       "3        85000  \n",
       "4        51017  "
      ]
     },
     "execution_count": 5,
     "metadata": {},
     "output_type": "execute_result"
    }
   ],
   "source": [
    "company.head()"
   ]
  },
  {
   "cell_type": "markdown",
   "metadata": {},
   "source": [
    "### 1.1. (2 points) Compute and report (in a short paragraph of text) the following summary statistics for the `Net Income (M\\$)` data (round your values to the nearest integer):\n",
    "\n",
    "    - Mean\n",
    "    - Median\n",
    "    - Standard Deviation\n",
    "    - Range\n",
    "    - IQR "
   ]
  },
  {
   "cell_type": "code",
   "execution_count": 6,
   "metadata": {
    "tags": []
   },
   "outputs": [
    {
     "data": {
      "text/plain": [
       "334"
      ]
     },
     "execution_count": 6,
     "metadata": {},
     "output_type": "execute_result"
    }
   ],
   "source": [
    "mean = round(company[\"Net Income (M$)\"].mean())\n",
    "mean"
   ]
  },
  {
   "cell_type": "code",
   "execution_count": 14,
   "metadata": {
    "tags": []
   },
   "outputs": [
    {
     "data": {
      "text/plain": [
       "34"
      ]
     },
     "execution_count": 14,
     "metadata": {},
     "output_type": "execute_result"
    }
   ],
   "source": [
    "median = round(company[\"Net Income (M$)\"].median())\n",
    "median"
   ]
  },
  {
   "cell_type": "code",
   "execution_count": 15,
   "metadata": {
    "tags": []
   },
   "outputs": [
    {
     "data": {
      "text/plain": [
       "1385"
      ]
     },
     "execution_count": 15,
     "metadata": {},
     "output_type": "execute_result"
    }
   ],
   "source": [
    "stdev = round(company[\"Net Income (M$)\"].std())\n",
    "stdev "
   ]
  },
  {
   "cell_type": "code",
   "execution_count": 17,
   "metadata": {
    "tags": []
   },
   "outputs": [
    {
     "data": {
      "text/plain": [
       "17899"
      ]
     },
     "execution_count": 17,
     "metadata": {},
     "output_type": "execute_result"
    }
   ],
   "source": [
    "range = round(company[\"Net Income (M$)\"].max() - company[\"Net Income (M$)\"].min())\n",
    "range"
   ]
  },
  {
   "cell_type": "code",
   "execution_count": 18,
   "metadata": {
    "tags": []
   },
   "outputs": [
    {
     "data": {
      "text/plain": [
       "188"
      ]
     },
     "execution_count": 18,
     "metadata": {},
     "output_type": "execute_result"
    }
   ],
   "source": [
    "IQR = round(company[\"Net Income (M$)\"].quantile(0.75) - company[\"Net Income (M$)\"].quantile(0.25))\n",
    "IQR "
   ]
  },
  {
   "cell_type": "markdown",
   "metadata": {
    "tags": []
   },
   "source": [
    "The companies in the dataset has has an average of around $334M, plus or minus $1385M. \n",
    "The range of net income is on the higher end, with a value of $17,899M, which might be due to outliers.  \n",
    "The middle net income is $188M. The mean of net income is larger than the median value of total asset, $34M, which means the distribution is right-skewed. "
   ]
  },
  {
   "cell_type": "markdown",
   "metadata": {
    "tags": []
   },
   "source": [
    "### 1.2. (2 points) Report the % of companies that inccured losses. For this question, you are expected to add a new categorical variable to the dataset (call it `Profit`) with two levels: `PROFIT` if the net income is above zero (net income >= 0) and `LOSS` if the net income is below zero (net income < 0). \n"
   ]
  },
  {
   "cell_type": "code",
   "execution_count": 5,
   "metadata": {
    "tags": []
   },
   "outputs": [
    {
     "data": {
      "text/plain": [
       "Profit\n",
       "PROFIT    0.766467\n",
       "LOSS      0.233533\n",
       "Name: proportion, dtype: float64"
      ]
     },
     "execution_count": 5,
     "metadata": {},
     "output_type": "execute_result"
    }
   ],
   "source": [
    "company[\"Profit\"] = [\"PROFIT\" if netIncome>=0 else \"LOSS\" for netIncome in company[\"Net Income (M$)\"]]\n",
    "company [\"Profit\"].value_counts(normalize=True)"
   ]
  },
  {
   "cell_type": "markdown",
   "metadata": {},
   "source": [
    "### 1.3. (2 points) What is the shape of the distribution of the variable `Net Income (M$)`? For this question, you are expected to create **both** a histogram and a boxplot, and comment about the shape of the distribution and if there are any companies with an outlier net income."
   ]
  },
  {
   "cell_type": "code",
   "execution_count": 6,
   "metadata": {
    "tags": []
   },
   "outputs": [
    {
     "data": {
      "image/png": "[encoded data removed]",
      "text/plain": [
       "<Figure size 640x480 with 1 Axes>"
      ]
     },
     "metadata": {},
     "output_type": "display_data"
    }
   ],
   "source": [
    "sns.histplot(company[\"Net Income (M$)\"], kde=True)\n",
    "plt.xlabel(\"Net Income (M$)\")\n",
    "plt.ylabel(\"Count\")\n",
    "plt.show()"
   ]
  },
  {
   "cell_type": "code",
   "execution_count": 7,
   "metadata": {
    "tags": []
   },
   "outputs": [
    {
     "data": {
      "image/png": "[encoded data removed]",
      "text/plain": [
       "<Figure size 640x480 with 1 Axes>"
      ]
     },
     "metadata": {},
     "output_type": "display_data"
    }
   ],
   "source": [
    "sns.boxplot(y=company[\"Net Income (M$)\"])\n",
    "plt.ylabel(\"Net Income (M$)\")\n",
    "plt.show()"
   ]
  },
  {
   "cell_type": "code",
   "execution_count": null,
   "metadata": {},
   "outputs": [],
   "source": [
    "The distribution is right-skewed. There are a few companies with an outlier net income, as seen in the box plot. "
   ]
  },
  {
   "cell_type": "markdown",
   "metadata": {},
   "source": [
    "### 1.4. (2 points) A company that has more than 5000 employees is considered a large one, otherwise it is cosidered small. Create a new categroical variable (call it `Company Size`) with two levels: `LARGE` if the number of employees is greater than 5000 (employees > 5000), and `SMALL` otherwise (employees <=5000). What is the % of large and small companies in the dataset?"
   ]
  },
  {
   "cell_type": "code",
   "execution_count": 8,
   "metadata": {
    "tags": []
   },
   "outputs": [
    {
     "data": {
      "text/plain": [
       "Company Size\n",
       "LARGE    0.688623\n",
       "SMALL    0.311377\n",
       "Name: proportion, dtype: float64"
      ]
     },
     "execution_count": 8,
     "metadata": {},
     "output_type": "execute_result"
    }
   ],
   "source": [
    "company[\"Company Size\"] = [\"LARGE\" if employees>5000 else \"SMALL\" for employees in company[\"# Employees\"]]\n",
    "company [\"Company Size\"].value_counts(normalize=True)"
   ]
  },
  {
   "cell_type": "markdown",
   "metadata": {},
   "source": [
    "### 1.5. (2 points) Create a side-by-side boxplot to compare the distribtution of `Net Income (M$)` for both Large and Small companies. What does this graph tell you about the net income for both types of companies?"
   ]
  },
  {
   "cell_type": "code",
   "execution_count": 9,
   "metadata": {},
   "outputs": [
    {
     "data": {
      "text/plain": [
       "Text(0, 0.5, 'Net Income (M$)')"
      ]
     },
     "execution_count": 9,
     "metadata": {},
     "output_type": "execute_result"
    },
    {
     "data": {
      "image/png": "[encoded data removed]",
      "text/plain": [
       "<Figure size 640x480 with 1 Axes>"
      ]
     },
     "metadata": {},
     "output_type": "display_data"
    }
   ],
   "source": [
    "sns.boxplot(x=\"Company Size\", y=\"Net Income (M$)\", data=company)\n",
    "plt.xlabel(\"Company Size\")\n",
    "plt.ylabel(\"Net Income (M$)\")"
   ]
  },
  {
   "cell_type": "markdown",
   "metadata": {},
   "source": [
    "### 1.6. (3 points) A better way to assess the performance of companies is to look at their `Return on Assets` instead of looking only at net income. The return on assets indicates how much profit the company generates relative to the amount that it invested to make profits. \n",
    "\n",
    "- Create a new numerical variable (call it `Return on Assets`) based on the formula: **Return on Assets = Net Income/Total Assets**. \n",
    "\n",
    "- What is the shape of the distribution of the variable `Return on Assets`? For this question, you are expected to create **both** a histogram and a boxplot, and comment about the shape of the distribution and if there are any companies with an outlier return on assets value.\n",
    "\n",
    "- Create a side-by-side boxplot to compare the distribtution of `Return on Assets` for both Large and Small companies. What does this graph tell you about the return on assets for both types of companies?"
   ]
  },
  {
   "cell_type": "code",
   "execution_count": 10,
   "metadata": {},
   "outputs": [],
   "source": [
    "company[\"Return on Assets\"] = company[\"Net Income (M$)\"] / company[\"Total Assets (M$)\"]"
   ]
  },
  {
   "cell_type": "code",
   "execution_count": 11,
   "metadata": {
    "tags": []
   },
   "outputs": [
    {
     "data": {
      "image/png": "[encoded data removed]",
      "text/plain": [
       "<Figure size 640x480 with 1 Axes>"
      ]
     },
     "metadata": {},
     "output_type": "display_data"
    }
   ],
   "source": [
    "sns.histplot(company[\"Return on Assets\"])\n",
    "plt.xlabel(\"Return on Assets\")\n",
    "plt.ylabel(\"Count\")\n",
    "plt.show()"
   ]
  },
  {
   "cell_type": "code",
   "execution_count": 12,
   "metadata": {
    "tags": []
   },
   "outputs": [
    {
     "data": {
      "image/png": "[encoded data removed]",
      "text/plain": [
       "<Figure size 640x480 with 1 Axes>"
      ]
     },
     "metadata": {},
     "output_type": "display_data"
    }
   ],
   "source": [
    "sns.boxplot(y=\"Return on Assets\", data=company)\n",
    "plt.ylabel(\"Return on Assets\")\n",
    "plt.show()"
   ]
  },
  {
   "cell_type": "code",
   "execution_count": null,
   "metadata": {},
   "outputs": [],
   "source": [
    "The distribution is left-skewed. There are companies with an outlier return on assets value as indicated by \n",
    "the symbols past the whiskers. "
   ]
  },
  {
   "cell_type": "code",
   "execution_count": 13,
   "metadata": {
    "tags": []
   },
   "outputs": [
    {
     "data": {
      "image/png": "[encoded data removed]",
      "text/plain": [
       "<Figure size 640x480 with 1 Axes>"
      ]
     },
     "metadata": {},
     "output_type": "display_data"
    }
   ],
   "source": [
    "sns.boxplot(x=\"Company Size\", y=\"Return on Assets\", data=company)\n",
    "plt.xlabel(\"Company Size\")\n",
    "plt.ylabel(\"Return on Assets\")\n",
    "plt.show()"
   ]
  },
  {
   "cell_type": "markdown",
   "metadata": {},
   "source": [
    "### 1.7. (1 point) Which company has the least return on assets?"
   ]
  },
  {
   "cell_type": "code",
   "execution_count": 14,
   "metadata": {},
   "outputs": [
    {
     "data": {
      "text/html": [
       "<div>\n",
       "<style scoped>\n",
       "    .dataframe tbody tr th:only-of-type {\n",
       "        vertical-align: middle;\n",
       "    }\n",
       "\n",
       "    .dataframe tbody tr th {\n",
       "        vertical-align: top;\n",
       "    }\n",
       "\n",
       "    .dataframe thead th {\n",
       "        text-align: right;\n",
       "    }\n",
       "</style>\n",
       "<table border=\"1\" class=\"dataframe\">\n",
       "  <thead>\n",
       "    <tr style=\"text-align: right;\">\n",
       "      <th></th>\n",
       "      <th>Company Name</th>\n",
       "      <th>Total Assets (M$)</th>\n",
       "      <th>Net Income (M$)</th>\n",
       "      <th># Employees</th>\n",
       "      <th>Profit</th>\n",
       "      <th>Company Size</th>\n",
       "      <th>Return on Assets</th>\n",
       "    </tr>\n",
       "  </thead>\n",
       "  <tbody>\n",
       "    <tr>\n",
       "      <th>123</th>\n",
       "      <td>SCHOOL SPECIALTY INC</td>\n",
       "      <td>638</td>\n",
       "      <td>-356</td>\n",
       "      <td>1919</td>\n",
       "      <td>LOSS</td>\n",
       "      <td>SMALL</td>\n",
       "      <td>-0.557994</td>\n",
       "    </tr>\n",
       "  </tbody>\n",
       "</table>\n",
       "</div>"
      ],
      "text/plain": [
       "             Company Name  Total Assets (M$)  Net Income (M$)  # Employees  \\\n",
       "123  SCHOOL SPECIALTY INC                638             -356         1919   \n",
       "\n",
       "    Profit Company Size  Return on Assets  \n",
       "123   LOSS        SMALL         -0.557994  "
      ]
     },
     "execution_count": 14,
     "metadata": {},
     "output_type": "execute_result"
    }
   ],
   "source": [
    "company.sort_values(by=\"Return on Assets\", ascending=True).head(1)\n"
   ]
  },
  {
   "cell_type": "markdown",
   "metadata": {},
   "source": [
    "## Problem 2: Data Analytics Jobs in the USA\n",
    "\n",
    "Soon you will start getting ready to explore the job market for data analyst/data scientist positions (internship and full time). In this case study, we will assess the job market in the USA, and in particular, we are interested to learn which business sectors and companies are looking to hire data analysts in different US states. This should get you started with your internship search for Summer 2022.\n",
    "\n",
    "The data set (`DataAnalyst.csv`) is available for download from blackboard. It is scrapped and cleaned from GlassDoor using this [web scrapper](https://github.com/picklesueat/data_jobs_data/blob/master/glass_scraper.py). We will learn how to scrap data from the web in the second half of the semester.\n",
    "\n",
    "The dataset has a sample of 2,253 job listings. The following table describes some of the variables necessary to answer the questions in this quiz:\n",
    "\n",
    "|**Variables**    |**Explanation**|\n",
    "|:-----------------|:--------------|\n",
    "|`Job Title`| listing's job title\n",
    "|`Job Description`| listing's job description\n",
    "|`Rating`| the company's rating on Glassdoor\n",
    "|`Company Name` | the listing company's name\n",
    "|`City` | city location of the company \n",
    "|`State`| state location of the company\n",
    "|`Size` | number of employees in the company \n",
    "|`Founded`| the year the company was founded\n",
    "|`Type of ownership`| is the company private, public, non-profit, etc.?\n",
    "|`Industry`| primary business activity \n",
    "|`Sector`| economic sector classification for the company\n",
    "|`Revenue`| company's income generated from business operations\n",
    "|`Competitors`| the company's list of competitors\n",
    "|`Min_Salary`| the minimum salary listing for the position\n",
    "|`Max_Salary`| the maximum salary listing for the position\n",
    "\n",
    "**In this homework, we assume that the sample of 2,253 job listings is a representative of the population of job listings in the USA.**"
   ]
  },
  {
   "cell_type": "markdown",
   "metadata": {},
   "source": [
    "### 2.1 (1 point) What are the top 4 sectors with the highest count of job listings?"
   ]
  },
  {
   "cell_type": "code",
   "execution_count": 3,
   "metadata": {},
   "outputs": [
    {
     "name": "stdout",
     "output_type": "stream",
     "text": [
      "<class 'pandas.core.frame.DataFrame'>\n",
      "RangeIndex: 2253 entries, 0 to 2252\n",
      "Data columns (total 15 columns):\n",
      " #   Column             Non-Null Count  Dtype  \n",
      "---  ------             --------------  -----  \n",
      " 0   Job Title          2253 non-null   object \n",
      " 1   Job Description    2253 non-null   object \n",
      " 2   Rating             1981 non-null   float64\n",
      " 3   Company Name       2252 non-null   object \n",
      " 4   City               2253 non-null   object \n",
      " 5   State              2253 non-null   object \n",
      " 6   Size               2090 non-null   object \n",
      " 7   Founded            1593 non-null   float64\n",
      " 8   Type of ownership  2090 non-null   object \n",
      " 9   Industry           1900 non-null   object \n",
      " 10  Sector             1900 non-null   object \n",
      " 11  Revenue            2090 non-null   object \n",
      " 12  Competitors        521 non-null    object \n",
      " 13  Min_Salary         2253 non-null   int64  \n",
      " 14  Max_Salary         2253 non-null   int64  \n",
      "dtypes: float64(2), int64(2), object(11)\n",
      "memory usage: 264.2+ KB\n"
     ]
    }
   ],
   "source": [
    "data = pd.read_csv(\"DataAnalyst.csv\")\n",
    "data.info()"
   ]
  },
  {
   "cell_type": "code",
   "execution_count": 4,
   "metadata": {
    "tags": []
   },
   "outputs": [
    {
     "data": {
      "text/plain": [
       "Sector\n",
       "Information Technology    570\n",
       "Business Services         524\n",
       "Finance                   169\n",
       "Health Care               151\n",
       "Name: count, dtype: int64"
      ]
     },
     "execution_count": 4,
     "metadata": {},
     "output_type": "execute_result"
    }
   ],
   "source": [
    "sectors = data[\"Sector\"].value_counts()\n",
    "topSectors = sectors.head(4)\n",
    "topSectors"
   ]
  },
  {
   "cell_type": "markdown",
   "metadata": {},
   "source": [
    "### 2.2. (1 point) Suppose that you want to focus your job search in the following sectors (Information Technology, Business Services, Finance,  Health Care). Create a subset of the given dataset that include only these 4 sectors with their data (include all variables).\n",
    "\n",
    "*Name the subset dataframe `mydata`.*"
   ]
  },
  {
   "cell_type": "code",
   "execution_count": 8,
   "metadata": {},
   "outputs": [
    {
     "data": {
      "text/plain": [
       "array(['Health Care', 'Information Technology', 'Finance',\n",
       "       'Business Services'], dtype=object)"
      ]
     },
     "execution_count": 8,
     "metadata": {},
     "output_type": "execute_result"
    }
   ],
   "source": [
    "mydata = data[data[\"Sector\"].isin([\"Information Technology\", \"Business Services\", \"Finance\", \"Health Care\"])]\n",
    "pd.unique(mydata[\"Sector\"])"
   ]
  },
  {
   "cell_type": "markdown",
   "metadata": {},
   "source": [
    "### 2.3 (2 points) You are given the range of salary for each job listing (minimum and maximum salary). Add a new variable to `mydata` to estimate the salary of the for each of the listing in the dataset. The estimate salary is the average of the given minimum and maximum salary.\n",
    "\n",
    "*Name the the new column `Est_Salary`.*\n",
    "\n",
    "What is the **average**, and **standard deviation** for the estimated salary among the 4 sectors listed in `mydata` dataframe?"
   ]
  },
  {
   "cell_type": "code",
   "execution_count": 78,
   "metadata": {},
   "outputs": [],
   "source": [
    "mydata = mydata.copy()\n",
    "mydata[\"Est_Salary\"] = (mydata[\"Max_Salary\"] + mydata[\"Min_Salary\"]) / 2"
   ]
  },
  {
   "cell_type": "code",
   "execution_count": 83,
   "metadata": {},
   "outputs": [
    {
     "data": {
      "text/html": [
       "<div>\n",
       "<style scoped>\n",
       "    .dataframe tbody tr th:only-of-type {\n",
       "        vertical-align: middle;\n",
       "    }\n",
       "\n",
       "    .dataframe tbody tr th {\n",
       "        vertical-align: top;\n",
       "    }\n",
       "\n",
       "    .dataframe thead th {\n",
       "        text-align: right;\n",
       "    }\n",
       "</style>\n",
       "<table border=\"1\" class=\"dataframe\">\n",
       "  <thead>\n",
       "    <tr style=\"text-align: right;\">\n",
       "      <th></th>\n",
       "      <th>mean</th>\n",
       "      <th>std</th>\n",
       "    </tr>\n",
       "    <tr>\n",
       "      <th>Sector</th>\n",
       "      <th></th>\n",
       "      <th></th>\n",
       "    </tr>\n",
       "  </thead>\n",
       "  <tbody>\n",
       "    <tr>\n",
       "      <th>Business Services</th>\n",
       "      <td>72.135496</td>\n",
       "      <td>22.411196</td>\n",
       "    </tr>\n",
       "    <tr>\n",
       "      <th>Finance</th>\n",
       "      <td>67.644970</td>\n",
       "      <td>22.545747</td>\n",
       "    </tr>\n",
       "    <tr>\n",
       "      <th>Health Care</th>\n",
       "      <td>72.807947</td>\n",
       "      <td>26.554150</td>\n",
       "    </tr>\n",
       "    <tr>\n",
       "      <th>Information Technology</th>\n",
       "      <td>74.247368</td>\n",
       "      <td>25.520887</td>\n",
       "    </tr>\n",
       "  </tbody>\n",
       "</table>\n",
       "</div>"
      ],
      "text/plain": [
       "                             mean        std\n",
       "Sector                                      \n",
       "Business Services       72.135496  22.411196\n",
       "Finance                 67.644970  22.545747\n",
       "Health Care             72.807947  26.554150\n",
       "Information Technology  74.247368  25.520887"
      ]
     },
     "execution_count": 83,
     "metadata": {},
     "output_type": "execute_result"
    }
   ],
   "source": [
    "mydata.groupby(\"Sector\")[\"Est_Salary\"].agg([\"mean\",\"std\"])"
   ]
  },
  {
   "cell_type": "markdown",
   "metadata": {},
   "source": [
    "### 2.4 (2 points) Create a side-by-side boxplot to show the distribution of salaries among the four hiring sectors (listed in `mydata`). What does the boxplot tell you about the salaries in these industries for data analysts?"
   ]
  },
  {
   "cell_type": "code",
   "execution_count": 18,
   "metadata": {},
   "outputs": [
    {
     "data": {
      "image/png": "[encoded data removed]",
      "text/plain": [
       "<Figure size 640x480 with 1 Axes>"
      ]
     },
     "metadata": {},
     "output_type": "display_data"
    }
   ],
   "source": [
    "sns.boxplot(x=\"Sector\", y=\"Est_Salary\", data=mydata)\n",
    "plt.show()"
   ]
  },
  {
   "cell_type": "code",
   "execution_count": null,
   "metadata": {},
   "outputs": [],
   "source": [
    "These salaries are right-skewed, as you can see by the outliers which are at the top of the graph. "
   ]
  },
  {
   "cell_type": "markdown",
   "metadata": {},
   "source": [
    "### 2.5 (2 points) List the company names (distinct) in the **Information Technology** sector has job postings with estimated salaries above 100K dollars?"
   ]
  },
  {
   "cell_type": "code",
   "execution_count": 84,
   "metadata": {},
   "outputs": [
    {
     "data": {
      "text/plain": [
       "array(['Criteo', 'Tekfortune Inc.', 'Staffigo Technical Services, LLC',\n",
       "       '8K Miles Software Services, Inc.', 'VTS',\n",
       "       'RMS Computer Corporation', 'Reliable Software Resources',\n",
       "       'Oracle', 'Avani Technology Solutions', 'Primesoft',\n",
       "       'Systemart LLC', 'TechProjects', 'Information Technology Partners',\n",
       "       'TikTok', 'Synchronous Solutions, Inc', 'HR Pundits',\n",
       "       'Softpath System LLC', 'Motorola Solutions', 'Capgemini', 'NVIDIA',\n",
       "       'Risk Management Solutions (RMS)', 'LeanData', 'Alteryx',\n",
       "       'L&T Infotech', 'IntraEdge', 'Joomag, Inc.', 'Moveworks', 'Ursus',\n",
       "       'Nuro', 'TalentBurst, Inc.', 'BayOne Solutions', 'Logic Planet',\n",
       "       'Netflix', 'Diverse Lynx', 'Adwait Algorithm', 'Netflix, Inc.',\n",
       "       'Apple', 'Collabera', 'Crystal Equation', 'Frontend Arts',\n",
       "       'Poshmark', 'Zolon Tech Solutions Inc.', 'Lodestone', 'SAP',\n",
       "       'Calsoft Labs', 'Coinbase', 'Trifacta', 'Wilbur Labs',\n",
       "       'User Testing', 'Priceonomics', 'BOLD', 'Flatiron Health',\n",
       "       'Twitter', 'Evolver, Inc.', 'Lyft', 'Scale AI', 'Softova Inc',\n",
       "       'LeadStack', 'TaskRabbit'], dtype=object)"
      ]
     },
     "execution_count": 84,
     "metadata": {},
     "output_type": "execute_result"
    }
   ],
   "source": [
    "above = mydata[(mydata[\"Sector\"] == \"Information Technology\") & (mydata[\"Est_Salary\"] > 100)]\n",
    "tech = above[\"Company Name\"].unique()\n",
    "tech"
   ]
  },
  {
   "cell_type": "markdown",
   "metadata": {},
   "source": [
    "### 2.6 (3 points) Use the dataset with the 4 sectors (`mydata`) to create a dot plot (lollipop plot) that shows the top 15 states with the highest average salaries.\n",
    "\n",
    "*Name the dataframe `top15states`*\n",
    "\n",
    "*The resulting dataframe should have two columns (`State`, `Avg Salary`), where `Avg Salary` is the mean salary in the corresponding `State`*\n",
    "\n",
    "*Use two different colors of your choice to distingusih between the states with avegrage salary larger than \\$75K and thos with average salary less than \\$75K.* "
   ]
  },
  {
   "cell_type": "code",
   "execution_count": 33,
   "metadata": {},
   "outputs": [
    {
     "data": {
      "text/html": [
       "<div>\n",
       "<style scoped>\n",
       "    .dataframe tbody tr th:only-of-type {\n",
       "        vertical-align: middle;\n",
       "    }\n",
       "\n",
       "    .dataframe tbody tr th {\n",
       "        vertical-align: top;\n",
       "    }\n",
       "\n",
       "    .dataframe thead th {\n",
       "        text-align: right;\n",
       "    }\n",
       "</style>\n",
       "<table border=\"1\" class=\"dataframe\">\n",
       "  <thead>\n",
       "    <tr style=\"text-align: right;\">\n",
       "      <th></th>\n",
       "      <th>State</th>\n",
       "      <th>Est_Salary</th>\n",
       "    </tr>\n",
       "  </thead>\n",
       "  <tbody>\n",
       "    <tr>\n",
       "      <th>0</th>\n",
       "      <td>CA</td>\n",
       "      <td>90.986595</td>\n",
       "    </tr>\n",
       "    <tr>\n",
       "      <th>1</th>\n",
       "      <td>IL</td>\n",
       "      <td>78.027778</td>\n",
       "    </tr>\n",
       "    <tr>\n",
       "      <th>2</th>\n",
       "      <td>NJ</td>\n",
       "      <td>73.925000</td>\n",
       "    </tr>\n",
       "    <tr>\n",
       "      <th>3</th>\n",
       "      <td>CO</td>\n",
       "      <td>73.100000</td>\n",
       "    </tr>\n",
       "    <tr>\n",
       "      <th>4</th>\n",
       "      <td>NY</td>\n",
       "      <td>71.856195</td>\n",
       "    </tr>\n",
       "    <tr>\n",
       "      <th>5</th>\n",
       "      <td>AZ</td>\n",
       "      <td>70.771186</td>\n",
       "    </tr>\n",
       "    <tr>\n",
       "      <th>6</th>\n",
       "      <td>SC</td>\n",
       "      <td>70.250000</td>\n",
       "    </tr>\n",
       "    <tr>\n",
       "      <th>7</th>\n",
       "      <td>NC</td>\n",
       "      <td>67.849206</td>\n",
       "    </tr>\n",
       "    <tr>\n",
       "      <th>8</th>\n",
       "      <td>VA</td>\n",
       "      <td>65.074074</td>\n",
       "    </tr>\n",
       "    <tr>\n",
       "      <th>9</th>\n",
       "      <td>WA</td>\n",
       "      <td>62.545455</td>\n",
       "    </tr>\n",
       "    <tr>\n",
       "      <th>10</th>\n",
       "      <td>PA</td>\n",
       "      <td>60.801471</td>\n",
       "    </tr>\n",
       "    <tr>\n",
       "      <th>11</th>\n",
       "      <td>TX</td>\n",
       "      <td>59.454183</td>\n",
       "    </tr>\n",
       "    <tr>\n",
       "      <th>12</th>\n",
       "      <td>DE</td>\n",
       "      <td>59.166667</td>\n",
       "    </tr>\n",
       "    <tr>\n",
       "      <th>13</th>\n",
       "      <td>FL</td>\n",
       "      <td>52.000000</td>\n",
       "    </tr>\n",
       "    <tr>\n",
       "      <th>14</th>\n",
       "      <td>KS</td>\n",
       "      <td>51.500000</td>\n",
       "    </tr>\n",
       "  </tbody>\n",
       "</table>\n",
       "</div>"
      ],
      "text/plain": [
       "   State  Est_Salary\n",
       "0     CA   90.986595\n",
       "1     IL   78.027778\n",
       "2     NJ   73.925000\n",
       "3     CO   73.100000\n",
       "4     NY   71.856195\n",
       "5     AZ   70.771186\n",
       "6     SC   70.250000\n",
       "7     NC   67.849206\n",
       "8     VA   65.074074\n",
       "9     WA   62.545455\n",
       "10    PA   60.801471\n",
       "11    TX   59.454183\n",
       "12    DE   59.166667\n",
       "13    FL   52.000000\n",
       "14    KS   51.500000"
      ]
     },
     "execution_count": 33,
     "metadata": {},
     "output_type": "execute_result"
    }
   ],
   "source": [
    "avgSalary = mydata.groupby(\"State\")[\"Est_Salary\"].mean()\n",
    "avgSalary.sort_values(ascending=False).head(15).reset_index()\n",
    "top15states"
   ]
  },
  {
   "cell_type": "code",
   "execution_count": 115,
   "metadata": {
    "tags": []
   },
   "outputs": [
    {
     "data": {
      "image/png": "[encoded data removed]",
      "text/plain": [
       "<Figure size 640x480 with 1 Axes>"
      ]
     },
     "metadata": {},
     "output_type": "display_data"
    }
   ],
   "source": [
    "colors = [\"pink\" if salary > 75 else \"purple\" for salary in top15states[\"Est_Salary\"]]\n",
    "#toptop=top15states[top15states[\"Est_Salary\"]>75]\n",
    "#topdown=top15states[top15states[\"Est_Salary\"]<75]\n",
    "\n",
    "plt.scatter(top15states[\"Est_Salary\"], top15states[\"State\"], color=colors)\n",
    "plt.hlines(y = top15states[\"Est_Salary\"].index, xmin = 0, xmax=top15states[\"Est_Salary\"], color=colors)\n",
    "#plt.stem(topdown[\"State\"], topdown[\"Est_Salary\"], orientation=\"horizontal\", basefmt=\" \", linefmt=\"purple\")\n",
    "plt.gca().spines[\"top\"].set_color(\"black\")\n",
    "plt.gca().spines[\"left\"].set_color(\"black\")\n",
    "plt.gca().spines[\"right\"].set_color(\"black\")\n",
    "plt.gca().spines[\"bottom\"].set_color(\"black\")\n",
    "plt.gca().set_facecolor(\"white\")\n",
    "plt.xlabel(\"Salary (000')\")\n",
    "plt.title(\"Top Paying 15 States for Data Analysts (on Average)\")\n",
    "plt.grid()\n",
    "plt.show()"
   ]
  },
  {
   "cell_type": "code",
   "execution_count": null,
   "metadata": {},
   "outputs": [],
   "source": []
  }
 ],
 "metadata": {
  "colab": {
   "name": "Homework01-dso545-fall21.ipynb",
   "provenance": []
  },
  "interpreter": {
   "hash": "dca0ade3e726a953b501b15e8e990130d2b7799f14cfd9f4271676035ebe5511"
  },
  "kernelspec": {
   "display_name": "Python 3 (ipykernel)",
   "language": "python",
   "name": "python3"
  },
  "language_info": {
   "codemirror_mode": {
    "name": "ipython",
    "version": 3
   },
   "file_extension": ".py",
   "mimetype": "text/x-python",
   "name": "python",
   "nbconvert_exporter": "python",
   "pygments_lexer": "ipython3",
   "version": "3.11.10"
  },
  "varInspector": {
   "cols": {
    "lenName": 16,
    "lenType": 16,
    "lenVar": 40
   },
   "kernels_config": {
    "python": {
     "delete_cmd_postfix": "",
     "delete_cmd_prefix": "del ",
     "library": "var_list.py",
     "varRefreshCmd": "print(var_dic_list())"
    },
    "r": {
     "delete_cmd_postfix": ") ",
     "delete_cmd_prefix": "rm(",
     "library": "var_list.r",
     "varRefreshCmd": "cat(var_dic_list()) "
    }
   },
   "types_to_exclude": [
    "module",
    "function",
    "builtin_function_or_method",
    "instance",
    "_Feature"
   ],
   "window_display": false
  }
 },
 "nbformat": 4,
 "nbformat_minor": 4
}
