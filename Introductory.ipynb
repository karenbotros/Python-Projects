{
 "cells": [
  {
   "cell_type": "markdown",
   "metadata": {
    "id": "ty_Gvth62Tav"
   },
   "source": [
    "# Homework 1\n",
    "\n",
    "### Due: Friday Sep 8, at 11:59pm via Blackboard"
   ]
  },
  {
   "cell_type": "markdown",
   "metadata": {
    "heading_collapsed": true,
    "id": "ZWwRsNom2TKq"
   },
   "source": [
    "#### **Q1.** *(4 points)* Given the following list of characters: 'a', 'b', 'c', 'd', 'e', 'f', 'g', 'h', 'i', 'j'.  Create a Python list to store all of the characters. Store the list in a variable `alphabet`.\n",
    "\n"
   ]
  },
  {
   "cell_type": "code",
   "execution_count": 2,
   "metadata": {
    "hidden": true,
    "tags": []
   },
   "outputs": [],
   "source": [
    "alphabet = [\"a\", \"b\", \"c\", \"d\", \"e\", \"f\", \"g\", \"h\", \"i\", \"j\"]"
   ]
  },
  {
   "cell_type": "markdown",
   "metadata": {
    "hidden": true
   },
   "source": [
    "**1.1** Use indexing techniques to retrieve the first half of the list. "
   ]
  },
  {
   "cell_type": "code",
   "execution_count": 3,
   "metadata": {
    "colab": {
     "base_uri": "https://localhost:8080/",
     "height": 37
    },
    "hidden": true,
    "id": "TfKYs1Kp3qra",
    "outputId": "3585e569-1fda-4683-8872-63e2bf92602f",
    "tags": []
   },
   "outputs": [
    {
     "name": "stdout",
     "output_type": "stream",
     "text": [
      "['a', 'b', 'c', 'd', 'e']\n"
     ]
    }
   ],
   "source": [
    "firstHalf = alphabet[0:5]\n",
    "print(firstHalf)"
   ]
  },
  {
   "cell_type": "markdown",
   "metadata": {
    "hidden": true
   },
   "source": [
    "**1.2** Use indexing techniques to retrieve every other character in the list. "
   ]
  },
  {
   "cell_type": "code",
   "execution_count": 4,
   "metadata": {
    "colab": {
     "base_uri": "https://localhost:8080/",
     "height": 37
    },
    "hidden": true,
    "id": "MCSJkHfA4G3p",
    "outputId": "9a9da5f3-9ee0-48d2-95ea-f8e61af7472a",
    "tags": []
   },
   "outputs": [
    {
     "name": "stdout",
     "output_type": "stream",
     "text": [
      "['f', 'g', 'h', 'i', 'j']\n"
     ]
    }
   ],
   "source": [
    "otherHalf = alphabet[5:]\n",
    "print(otherHalf)"
   ]
  },
  {
   "cell_type": "markdown",
   "metadata": {
    "hidden": true
   },
   "source": [
    "**1.3** Use indexing techniques to print the list in reverse."
   ]
  },
  {
   "cell_type": "code",
   "execution_count": 5,
   "metadata": {
    "colab": {
     "base_uri": "https://localhost:8080/",
     "height": 37
    },
    "hidden": true,
    "id": "3RBycIAH4Nqi",
    "outputId": "5b46d519-37d0-440c-c503-b858170a2ce3",
    "scrolled": true,
    "tags": []
   },
   "outputs": [
    {
     "name": "stdout",
     "output_type": "stream",
     "text": [
      "['j', 'i', 'h', 'g', 'f', 'e', 'd', 'c', 'b', 'a']\n"
     ]
    }
   ],
   "source": [
    "reverse = alphabet[::-1]\n",
    "print(reverse)"
   ]
  },
  {
   "cell_type": "markdown",
   "metadata": {
    "hidden": true
   },
   "source": [
    "**1.4** Use indexing techniques to print every other character in reverse."
   ]
  },
  {
   "cell_type": "code",
   "execution_count": 6,
   "metadata": {
    "colab": {
     "base_uri": "https://localhost:8080/",
     "height": 37
    },
    "hidden": true,
    "id": "LEPAyfhf4yRB",
    "outputId": "5b52aa60-b151-43b3-8678-b83d937aab3d"
   },
   "outputs": [
    {
     "name": "stdout",
     "output_type": "stream",
     "text": [
      "['j', 'h', 'f', 'd', 'b']\n"
     ]
    }
   ],
   "source": [
    "reverse = alphabet[::-2]\n",
    "print(reverse)"
   ]
  },
  {
   "cell_type": "markdown",
   "metadata": {
    "heading_collapsed": true,
    "id": "pfzJkwGp4_ZP"
   },
   "source": [
    "#### **Q2.**  *(2 points)* For a circle of radius 2, calculate and display the diameter, circumference, and area. Use the value 3.14159 for $\\pi$. Your output should like as follows:\n",
    "\n",
    "*Expected Output*\n",
    "\n",
    "------------------\n",
    "\n",
    "The diameter of a circle with radius 2 is 4.\n",
    "\n",
    "The circumferene of a circle with radius 2 is 12.56636. \n",
    "\n",
    "The area of a circle with radius 2 is 12.56636.\n"
   ]
  },
  {
   "cell_type": "code",
   "execution_count": 7,
   "metadata": {
    "colab": {
     "base_uri": "https://localhost:8080/"
    },
    "hidden": true,
    "id": "JCnaljJi49W0",
    "outputId": "f16e19e9-e613-4f34-cf44-a613528b0f92",
    "tags": []
   },
   "outputs": [
    {
     "name": "stdout",
     "output_type": "stream",
     "text": [
      "The diameter of a circle with radius 2 is 4.\n",
      "The circumference of a circle with radius 2 is 12.56636.\n",
      "The area of a circle with radius 2 is 12.56636.\n"
     ]
    }
   ],
   "source": [
    "r = 2 \n",
    "pi = 3.14159\n",
    "\n",
    "diameter = r**2\n",
    "print(f\"The diameter of a circle with radius 2 is {diameter}.\")\n",
    "\n",
    "circumference = 2*pi*r\n",
    "print(f\"The circumference of a circle with radius 2 is {circumference}.\")\n",
    "\n",
    "area = pi*(r**2)\n",
    "print(f\"The area of a circle with radius 2 is {area}.\")\n"
   ]
  },
  {
   "cell_type": "markdown",
   "metadata": {
    "id": "LjuDRRhR8aTk"
   },
   "source": [
    "#### **Q3.**  *(3 points)* Some investment advisors say that it's reasonable to expect a 7% return over the long term in the stock market. Assuming that you begin with $10,000 and leave your money invested, calculate and display how much money you'll have after 10, 20, and 30 years. Use the following formula for determining these amounts: \n",
    "\n",
    "$a=p(1+r)^n$\n",
    "\n",
    "where \n",
    "\n",
    "$p$ is the original amount invested\n",
    "\n",
    "$r$ is the annual rate of return\n",
    "\n",
    "$n$ is the number of years \n",
    "\n",
    "$a$ is the amount on deposit at the end of the $n^{th}$ year."
   ]
  },
  {
   "cell_type": "code",
   "execution_count": 8,
   "metadata": {
    "colab": {
     "base_uri": "https://localhost:8080/"
    },
    "id": "NZhXxKA99rts",
    "outputId": "9d524d81-b4e9-477b-a526-d45d56830d98"
   },
   "outputs": [
    {
     "name": "stdout",
     "output_type": "stream",
     "text": [
      "You will have $19671.51 in year 10.\n",
      "You will have $38696.84 in year 20.\n",
      "You will have $76122.55 in year 30.\n"
     ]
    }
   ],
   "source": [
    "p = 10000\n",
    "r = 0.07 \n",
    "n = [10,20,30]\n",
    "\n",
    "for year in n:\n",
    "    answer = round(p*(1+r)**year,2)\n",
    "    print(f\"You will have ${answer} in year {year}.\")"
   ]
  },
  {
   "cell_type": "markdown",
   "metadata": {
    "id": "k-OapMsUUd9t"
   },
   "source": [
    "\n",
    "#### **Q4.**  *(2 points)* Investigate the Python built-in function `round()` at https://docs.python.org/3/library/functions.html#round, then use it to round the `float` value 12.56449 to the nearest integer; ii) tenth; iii) hundredth; iv) and thousandths position. "
   ]
  },
  {
   "cell_type": "code",
   "execution_count": 9,
   "metadata": {
    "colab": {
     "base_uri": "https://localhost:8080/"
    },
    "id": "OmsvFtOWXESX",
    "outputId": "3db1f034-2a10-4bd1-90ff-6da55fae8276",
    "tags": []
   },
   "outputs": [
    {
     "name": "stdout",
     "output_type": "stream",
     "text": [
      "The float 12.56449 rounded to the nearest integer is 13.0.\n",
      "The float 12.56449 rounded to the nearest tenth is 12.6.\n",
      "The float 12.56449 rounded to the nearest hundredth is 12.56.\n",
      "The float 12.56449 rounded to the nearest thousandth is 13.0.\n"
     ]
    }
   ],
   "source": [
    "roundOne = round(12.56449,0)\n",
    "print(f\"The float 12.56449 rounded to the nearest integer is {roundOne}.\")\n",
    "\n",
    "roundTwo = round(12.56449,1)\n",
    "print(f\"The float 12.56449 rounded to the nearest tenth is {roundTwo}.\")\n",
    "\n",
    "roundThree = round(12.56449,2)\n",
    "print(f\"The float 12.56449 rounded to the nearest hundredth is {roundThree}.\")\n",
    "\n",
    "roundFour= round(12.56449,3)\n",
    "print(f\"The float 12.56449 rounded to the nearest thousandth is {roundOne}.\")"
   ]
  },
  {
   "cell_type": "markdown",
   "metadata": {
    "id": "MnlXHzIUYSVt"
   },
   "source": [
    "#### **Q5.**  *(4 points)* Given two lists: the first represents a selection of cryptoassets, and the second represents the cryptoassets corresponding marketcap in billions of dollars:\n",
    "\n",
    "- Crypto assets = Bitcoin, Cardano, Ethereum,  and Dodgecoin\n",
    "- Marketcap = 927, 78, 379, 42\n",
    "\n",
    "(Note: the given marketcap was recorded on 8/21/21)\n",
    "\n"
   ]
  },
  {
   "cell_type": "code",
   "execution_count": 10,
   "metadata": {},
   "outputs": [],
   "source": [
    "assets = [\"Bitcoin\", \"Cardano\", \"Ethereum\", \"Dodgecoin\"]\n",
    "marketCap = [927, 78, 379, 42]"
   ]
  },
  {
   "cell_type": "markdown",
   "metadata": {},
   "source": [
    "**5.1** Use a `for` loop to compute the total marketcap for all four currencies together."
   ]
  },
  {
   "cell_type": "code",
   "execution_count": 11,
   "metadata": {
    "id": "FS-g5498maee",
    "tags": []
   },
   "outputs": [
    {
     "name": "stdout",
     "output_type": "stream",
     "text": [
      "1426\n"
     ]
    }
   ],
   "source": [
    "total = 0 \n",
    "for num in marketCap:\n",
    "    total += num \n",
    "print(total)"
   ]
  },
  {
   "cell_type": "markdown",
   "metadata": {},
   "source": [
    "**5.2** Use list comprehension to list all market caps above $250B."
   ]
  },
  {
   "cell_type": "code",
   "execution_count": 12,
   "metadata": {},
   "outputs": [
    {
     "data": {
      "text/plain": [
       "[927, 379]"
      ]
     },
     "execution_count": 12,
     "metadata": {},
     "output_type": "execute_result"
    }
   ],
   "source": [
    "mktCap = [mCap for mCap in marketCap if mCap > 250]\n",
    "mktCap"
   ]
  },
  {
   "cell_type": "markdown",
   "metadata": {},
   "source": [
    "**5.3** Create a dictionary that contains the name of the cryptoasset as key and its corresponding marketcap as values for the dictionary.\n",
    "\n"
   ]
  },
  {
   "cell_type": "code",
   "execution_count": 13,
   "metadata": {
    "tags": []
   },
   "outputs": [
    {
     "data": {
      "text/plain": [
       "{'Bitcoin': 927, 'Cardano': 78, 'Ethereum': 379, 'Dodgecoin': 42}"
      ]
     },
     "execution_count": 13,
     "metadata": {},
     "output_type": "execute_result"
    }
   ],
   "source": [
    "crypto = {\"Bitcoin\":927, \"Cardano\":78, \"Ethereum\":379, \"Dodgecoin\":42}\n",
    "crypto"
   ]
  },
  {
   "cell_type": "markdown",
   "metadata": {},
   "source": [
    "**5.4** Use the dictionary data structure you created for the cryptoassets to print the name of the asset and its marketcap as follows (use for loop):\n",
    "\n",
    "Expected Output:\n",
    "\n",
    "-----------------\n",
    "\n",
    "The marketcap for Bitcoin is $927B\n",
    "\n",
    "The marketcap for Ethereum is $379B\n",
    "\n",
    "The marketcap for Cardano is $78B\n",
    "\n",
    "The marketcap for Dodgecoin is $41B\n",
    "\n"
   ]
  },
  {
   "cell_type": "code",
   "execution_count": 14,
   "metadata": {
    "colab": {
     "base_uri": "https://localhost:8080/"
    },
    "id": "u_Q7m-RT0TRE",
    "outputId": "4a7ee62f-af03-4620-8125-09868d4e20f5",
    "tags": []
   },
   "outputs": [
    {
     "name": "stdout",
     "output_type": "stream",
     "text": [
      "The marketcap for Bitcoin is $927B.\n",
      "The marketcap for Cardano is $78B.\n",
      "The marketcap for Ethereum is $379B.\n",
      "The marketcap for Dodgecoin is $42B.\n"
     ]
    }
   ],
   "source": [
    "for asset,marketcap in crypto.items():\n",
    "    print(f\"The marketcap for {asset} is ${marketcap}B.\")"
   ]
  },
  {
   "cell_type": "code",
   "execution_count": null,
   "metadata": {},
   "outputs": [],
   "source": []
  }
 ],
 "metadata": {
  "colab": {
   "name": "Homework01-dso545-fall21.ipynb",
   "provenance": []
  },
  "kernelspec": {
   "display_name": "Python 3 (ipykernel)",
   "language": "python",
   "name": "python3"
  },
  "language_info": {
   "codemirror_mode": {
    "name": "ipython",
    "version": 3
   },
   "file_extension": ".py",
   "mimetype": "text/x-python",
   "name": "python",
   "nbconvert_exporter": "python",
   "pygments_lexer": "ipython3",
   "version": "3.11.10"
  },
  "varInspector": {
   "cols": {
    "lenName": 16,
    "lenType": 16,
    "lenVar": 40
   },
   "kernels_config": {
    "python": {
     "delete_cmd_postfix": "",
     "delete_cmd_prefix": "del ",
     "library": "var_list.py",
     "varRefreshCmd": "print(var_dic_list())"
    },
    "r": {
     "delete_cmd_postfix": ") ",
     "delete_cmd_prefix": "rm(",
     "library": "var_list.r",
     "varRefreshCmd": "cat(var_dic_list()) "
    }
   },
   "types_to_exclude": [
    "module",
    "function",
    "builtin_function_or_method",
    "instance",
    "_Feature"
   ],
   "window_display": false
  }
 },
 "nbformat": 4,
 "nbformat_minor": 4
}
