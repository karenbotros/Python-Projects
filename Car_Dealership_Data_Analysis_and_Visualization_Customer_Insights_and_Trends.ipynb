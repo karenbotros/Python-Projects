{
 "cells": [
  {
   "cell_type": "markdown",
   "metadata": {
    "id": "ty_Gvth62Tav"
   },
   "source": [
    "# Car Dealership Data Analysis and Visualization: Customer Insights and Trends"
   ]
  },
  {
   "cell_type": "markdown",
   "metadata": {},
   "source": [
    "A car dealership wants to understand their customers and their buying habbits. The data (`cardealership.csv`) represents a randsome sample of their sales. \n",
    "\n",
    "|**VARIABLE**|**DESCRIPTION**|\n",
    "|------------|---------------|\n",
    "| **Gender** | gender for customer |\n",
    "| **marital status** | is the customer 'Married' or 'Single'? |\n",
    "| **age** | age of the customer |\n",
    "| **country** | country make of the car |\n",
    "| **size** |  the size of the car they bought ('Small', 'Medium', 'Large') |\n",
    "| **type** | the type of the car they bought ('Family', 'Sporty', 'work') |"
   ]
  },
  {
   "cell_type": "code",
   "execution_count": 49,
   "metadata": {
    "tags": []
   },
   "outputs": [
    {
     "data": {
      "text/html": [
       "<div>\n",
       "<style scoped>\n",
       "    .dataframe tbody tr th:only-of-type {\n",
       "        vertical-align: middle;\n",
       "    }\n",
       "\n",
       "    .dataframe tbody tr th {\n",
       "        vertical-align: top;\n",
       "    }\n",
       "\n",
       "    .dataframe thead th {\n",
       "        text-align: right;\n",
       "    }\n",
       "</style>\n",
       "<table border=\"1\" class=\"dataframe\">\n",
       "  <thead>\n",
       "    <tr style=\"text-align: right;\">\n",
       "      <th></th>\n",
       "      <th>Gender</th>\n",
       "      <th>marital status</th>\n",
       "      <th>age</th>\n",
       "      <th>country</th>\n",
       "      <th>size</th>\n",
       "      <th>type</th>\n",
       "    </tr>\n",
       "  </thead>\n",
       "  <tbody>\n",
       "    <tr>\n",
       "      <th>293</th>\n",
       "      <td>Female</td>\n",
       "      <td>Married</td>\n",
       "      <td>35</td>\n",
       "      <td>Japanese</td>\n",
       "      <td>Medium</td>\n",
       "      <td>Family</td>\n",
       "    </tr>\n",
       "    <tr>\n",
       "      <th>29</th>\n",
       "      <td>Male</td>\n",
       "      <td>Married</td>\n",
       "      <td>35</td>\n",
       "      <td>American</td>\n",
       "      <td>Small</td>\n",
       "      <td>Sporty</td>\n",
       "    </tr>\n",
       "    <tr>\n",
       "      <th>288</th>\n",
       "      <td>Female</td>\n",
       "      <td>Single</td>\n",
       "      <td>34</td>\n",
       "      <td>Japanese</td>\n",
       "      <td>Small</td>\n",
       "      <td>Family</td>\n",
       "    </tr>\n",
       "    <tr>\n",
       "      <th>225</th>\n",
       "      <td>Female</td>\n",
       "      <td>Married</td>\n",
       "      <td>35</td>\n",
       "      <td>Japanese</td>\n",
       "      <td>Small</td>\n",
       "      <td>Family</td>\n",
       "    </tr>\n",
       "    <tr>\n",
       "      <th>105</th>\n",
       "      <td>Male</td>\n",
       "      <td>Married</td>\n",
       "      <td>33</td>\n",
       "      <td>European</td>\n",
       "      <td>Small</td>\n",
       "      <td>Family</td>\n",
       "    </tr>\n",
       "  </tbody>\n",
       "</table>\n",
       "</div>"
      ],
      "text/plain": [
       "     Gender marital status  age   country    size    type\n",
       "293  Female        Married   35  Japanese  Medium  Family\n",
       "29     Male        Married   35  American   Small  Sporty\n",
       "288  Female         Single   34  Japanese   Small  Family\n",
       "225  Female        Married   35  Japanese   Small  Family\n",
       "105    Male        Married   33  European   Small  Family"
      ]
     },
     "execution_count": 49,
     "metadata": {},
     "output_type": "execute_result"
    }
   ],
   "source": [
    "# gives 5 random lines in it \n",
    "carDealer.sample(5) "
   ]
  },
  {
   "cell_type": "code",
   "execution_count": 50,
   "metadata": {
    "tags": []
   },
   "outputs": [
    {
     "data": {
      "text/plain": [
       "6"
      ]
     },
     "execution_count": 50,
     "metadata": {},
     "output_type": "execute_result"
    }
   ],
   "source": [
    "carDealer.shape[1]"
   ]
  },
  {
   "cell_type": "markdown",
   "metadata": {},
   "source": [
    "1. (1 point) Select all the married customers in the given dataset, and save it in a variable (`married_customers`). What is the percentage of married customers in the sample?"
   ]
  },
  {
   "cell_type": "code",
   "execution_count": 3,
   "metadata": {},
   "outputs": [
    {
     "name": "stdout",
     "output_type": "stream",
     "text": [
      "0.6468646864686468\n"
     ]
    }
   ],
   "source": [
    "import pandas as pd \n",
    "\n",
    "carDealer = pd.read_csv(\"cardealership.csv\")\n",
    "\n",
    "married_customers = carDealer[\"marital status\"]\n",
    "married_customers_count = married_customers.value_counts(\"Married\")[0]\n",
    "print(married_customers_count)"
   ]
  },
  {
   "cell_type": "markdown",
   "metadata": {},
   "source": [
    "2. (1 point) Use a list comprehension to create a list with two age categories. The category is `Below or equal to 30` if `age <= 30`, otherwise the category is `Above 30`. Use the result from this question to compute the number of customers in each category."
   ]
  },
  {
   "cell_type": "code",
   "execution_count": 54,
   "metadata": {
    "tags": []
   },
   "outputs": [
    {
     "data": {
      "text/plain": [
       "Above 30                159\n",
       "Below or equal to 30    144\n",
       "Name: count, dtype: int64"
      ]
     },
     "execution_count": 54,
     "metadata": {},
     "output_type": "execute_result"
    }
   ],
   "source": [
    "ages = [\"Below or equal to 30\" if age <30 else \"Above 30\" for age in carDealer[\"age\"]]\n",
    "\n",
    "pd.Series(ages).value_counts()"
   ]
  },
  {
   "cell_type": "markdown",
   "metadata": {},
   "source": [
    "3. (2 points) The current version of `Pandas` has 142 methods including (`DataFrame()`, `Series()`, `value_counts()`, etc.). In this question, you are expected to learn about the `cut()` method which allows you to categorize a numerical vector into user-defined categories. [Click here](https://pandas.pydata.org/docs/reference/api/pandas.cut.html) to learn more about the `cut` method.\n",
    "\n",
    "    - Use the `cut()` method to categorize the `age` variable into three buckets: `(0,30]`, `(30, 34]`, and `(34,60]`. (For this exercise, you don't have to add the new column to the original dataframe. You can save it in a seperate variable instead)\n",
    "    - Rename the labels of the buckets to the ones shown in the table below.  \n",
    "    - How many element are there in each category? \n",
    "\n",
    "\n",
    "\n",
    "<center> \n",
    "\n",
    "|bucket | label |\n",
    "|-------|-------|\n",
    "|(0,30] | Below 30 | \n",
    "|(30, 34]| Between 30 and 34|\n",
    "|(34,60]| Above 34|\n",
    "\n",
    "<center>\n",
    "\n",
    "\n"
   ]
  },
  {
   "cell_type": "code",
   "execution_count": 10,
   "metadata": {
    "tags": []
   },
   "outputs": [
    {
     "name": "stdout",
     "output_type": "stream",
     "text": [
      "age\n",
      "Below 30             159\n",
      "Above 34              76\n",
      "Between 30 and 34     68\n",
      "Name: count, dtype: int64\n"
     ]
    }
   ],
   "source": [
    "buckets = pd.cut(carDealer[\"age\"], bins=[0,30,34,60], labels=[\"Below 30\", \"Between 30 and 34\", \"Above 34\"])\n",
    "elements = buckets.value_counts()\n",
    "print(elements)"
   ]
  },
  {
   "cell_type": "markdown",
   "metadata": {},
   "source": [
    "4. (1 point) `Pandas` has another method called `qcut`, which allows you to categorize a numerical variable into equal-sized buckets based on quantiles. Use the `qcut()` method to categorize `age` into quartiles (4 buckets). [Click here](https://pandas.pydata.org/docs/reference/api/pandas.qcut.html) to learn more about the `cut` method"
   ]
  },
  {
   "cell_type": "code",
   "execution_count": 43,
   "metadata": {},
   "outputs": [
    {
     "name": "stdout",
     "output_type": "stream",
     "text": [
      "age\n",
      "(17.999, 26.0]    85\n",
      "(34.5, 60.0]      76\n",
      "(26.0, 30.0]      74\n",
      "(30.0, 34.5]      68\n",
      "Name: count, dtype: int64\n"
     ]
    }
   ],
   "source": [
    "buckets = pd.qcut(carDealer[\"age\"], q=4)\n",
    "quartiles = buckets.value_counts()\n",
    "print(quartiles)"
   ]
  },
  {
   "cell_type": "markdown",
   "metadata": {},
   "source": [
    "5. (1 point) Using `pandas`, summarize the customer characteristics: `Gender`, `marital status` (using relative frequency tables) and `age` (using the `describe()` method). "
   ]
  },
  {
   "cell_type": "code",
   "execution_count": 41,
   "metadata": {
    "tags": []
   },
   "outputs": [
    {
     "name": "stdout",
     "output_type": "stream",
     "text": [
      "marital status\n",
      "Married    64.686469\n",
      "Single     35.313531\n",
      "Name: proportion, dtype: float64\n"
     ]
    }
   ],
   "source": [
    "maritalStatus = carDealer[\"marital status\"].value_counts(normalize=True)*100\n",
    "print(maritalStatus)"
   ]
  },
  {
   "cell_type": "code",
   "execution_count": 40,
   "metadata": {
    "tags": []
   },
   "outputs": [
    {
     "name": "stdout",
     "output_type": "stream",
     "text": [
      "Gender\n",
      "Male      54.455446\n",
      "Female    45.544554\n",
      "Name: proportion, dtype: float64\n"
     ]
    }
   ],
   "source": [
    "gender = carDealer[\"Gender\"].value_counts(normalize=True)*100\n",
    "print(gender)"
   ]
  },
  {
   "cell_type": "code",
   "execution_count": 29,
   "metadata": {
    "tags": []
   },
   "outputs": [
    {
     "name": "stdout",
     "output_type": "stream",
     "text": [
      "count    303.000000\n",
      "mean      30.719472\n",
      "std        5.984294\n",
      "min       18.000000\n",
      "25%       26.000000\n",
      "50%       30.000000\n",
      "75%       34.500000\n",
      "max       60.000000\n",
      "Name: age, dtype: float64\n"
     ]
    }
   ],
   "source": [
    "age = carDealer[\"age\"].describe()\n",
    "print(age)"
   ]
  },
  {
   "cell_type": "markdown",
   "metadata": {},
   "source": [
    "6. (1 point) Using `pandas`, summarize the data on the cars sold: `country`, `size`, and `type` (using relative frequency tables)."
   ]
  },
  {
   "cell_type": "code",
   "execution_count": 30,
   "metadata": {
    "tags": []
   },
   "outputs": [
    {
     "name": "stdout",
     "output_type": "stream",
     "text": [
      "country\n",
      "Japanese    48.844884\n",
      "American    37.953795\n",
      "European    13.201320\n",
      "Name: proportion, dtype: float64\n"
     ]
    }
   ],
   "source": [
    "country = carDealer[\"country\"].value_counts(normalize=True)*100\n",
    "print(country)"
   ]
  },
  {
   "cell_type": "code",
   "execution_count": 31,
   "metadata": {
    "tags": []
   },
   "outputs": [
    {
     "name": "stdout",
     "output_type": "stream",
     "text": [
      "size\n",
      "Small     45.214521\n",
      "Medium    40.924092\n",
      "Large     13.861386\n",
      "Name: proportion, dtype: float64\n"
     ]
    }
   ],
   "source": [
    "size = carDealer[\"size\"].value_counts(normalize=True)*100\n",
    "print(size)"
   ]
  },
  {
   "cell_type": "code",
   "execution_count": 32,
   "metadata": {
    "tags": []
   },
   "outputs": [
    {
     "name": "stdout",
     "output_type": "stream",
     "text": [
      "type\n",
      "Family    51.155116\n",
      "Sporty    33.003300\n",
      "Work      15.841584\n",
      "Name: proportion, dtype: float64\n"
     ]
    }
   ],
   "source": [
    "type = carDealer[\"type\"].value_counts(normalize=True)*100\n",
    "print(type)"
   ]
  },
  {
   "cell_type": "markdown",
   "metadata": {},
   "source": [
    "7. (1 point) Write a summary paragraph describing the customers and cars sold data. Round all numbers in this paragraph to nearest integers."
   ]
  },
  {
   "cell_type": "code",
   "execution_count": null,
   "metadata": {},
   "outputs": [],
   "source": [
    "# Customers \n",
    "There are 303 total customers in this data. \n",
    "About 65% of those customers are married, and about 34% of them are single. \n",
    "Around 54% of customers are Male, and about 46% are female. \n",
    "The average age of a customer is around 31 years old, and the youngest car buyer is 18 years old.\n",
    "\n",
    "# Cars Sold \n",
    "Japanese cars are sold the most, around 49%. American cars are second, with around 38%, and European cars are third with around 13%.\n",
    "Most (45%) of customers buy small cars, 41% buy medium cars, and a small portion (14%) buy large cars. \n",
    "The majority of the cars, 51%, purchased are family cars. Sporty and work cars are less popular, with sporty cars sold 33% of the time and work cars sold 16% of the time. "
   ]
  },
  {
   "cell_type": "markdown",
   "metadata": {},
   "source": [
    "8. (2 points) Create a bargraph that shows the distribution of car `type`. Your bargraph should be similar to the attached bargraph picture on blackboard ('CarsTypeDistribution.png'). In particular, make sure to:\n",
    "\n",
    "- Use default matplotlib plot style\n",
    "- Use % for the labels of the y-axis ticks\n",
    "- Use `lightgrey` for the bars color\n",
    "- Overlay a horizontal line (y=25). The line's style is \"dashed\", and the color is \"blue\""
   ]
  },
  {
   "cell_type": "code",
   "execution_count": 45,
   "metadata": {
    "tags": []
   },
   "outputs": [
    {
     "data": {
      "image/png": "[encoded data removed]",
      "text/plain": [
       "<Figure size 640x480 with 1 Axes>"
      ]
     },
     "metadata": {},
     "output_type": "display_data"
    }
   ],
   "source": [
    "import matplotlib.pyplot as plt \n",
    "\n",
    "carType = carDealer[\"type\"].value_counts(normalize=True)*100\n",
    "plt.bar(carType.index, carType, color=\"lightgrey\")\n",
    "plt.title(\"Distribution of Cars by Type\")\n",
    "\n",
    "yLabel = [\"0%\", \"5%\", \"10%\", \"15%\", \"20%\", \"25%\", \"30%\", \"35%\", \"40%\", \"45%\", \"50%\"]\n",
    "plt.yticks(range(0,51,5), yLabel)\n",
    "plt.axhline(y=25, color=\"blue\", linestyle=\"dashed\")\n",
    "\n",
    "plt.show()\n"
   ]
  }
 ],
 "metadata": {
  "colab": {
   "name": "Homework01-dso545-fall21.ipynb",
   "provenance": []
  },
  "interpreter": {
   "hash": "dca0ade3e726a953b501b15e8e990130d2b7799f14cfd9f4271676035ebe5511"
  },
  "kernelspec": {
   "display_name": "Python 3 (ipykernel)",
   "language": "python",
   "name": "python3"
  },
  "language_info": {
   "codemirror_mode": {
    "name": "ipython",
    "version": 3
   },
   "file_extension": ".py",
   "mimetype": "text/x-python",
   "name": "python",
   "nbconvert_exporter": "python",
   "pygments_lexer": "ipython3",
   "version": "3.11.10"
  },
  "varInspector": {
   "cols": {
    "lenName": 16,
    "lenType": 16,
    "lenVar": 40
   },
   "kernels_config": {
    "python": {
     "delete_cmd_postfix": "",
     "delete_cmd_prefix": "del ",
     "library": "var_list.py",
     "varRefreshCmd": "print(var_dic_list())"
    },
    "r": {
     "delete_cmd_postfix": ") ",
     "delete_cmd_prefix": "rm(",
     "library": "var_list.r",
     "varRefreshCmd": "cat(var_dic_list()) "
    }
   },
   "types_to_exclude": [
    "module",
    "function",
    "builtin_function_or_method",
    "instance",
    "_Feature"
   ],
   "window_display": false
  }
 },
 "nbformat": 4,
 "nbformat_minor": 4
}
